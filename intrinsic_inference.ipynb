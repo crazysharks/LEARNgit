{
  "nbformat": 4,
  "nbformat_minor": 0,
  "metadata": {
    "colab": {
      "provenance": [],
      "gpuType": "T4"
    },
    "kernelspec": {
      "name": "python3",
      "display_name": "Python 3"
    },
    "language_info": {
      "name": "python"
    },
    "accelerator": "GPU"
  },
  "cells": [
    {
      "cell_type": "markdown",
      "source": [
        "Make sure to set the runtime to GPU: Runtime -> Change runtime type -> T4 GPU\n",
        "\n",
        "You can upload your own images, then change the relevant code cells to load it and send it through the model."
      ],
      "metadata": {
        "id": "-lKPW1wZEulh"
      }
    },
    {
      "cell_type": "code",
      "execution_count": 1,
      "metadata": {
        "id": "_cPkUxN-ikld",
        "outputId": "1fdbf910-d363-4d2b-a3fa-1beabcb0a1c3",
        "colab": {
          "base_uri": "https://localhost:8080/"
        }
      },
      "outputs": [
        {
          "output_type": "stream",
          "name": "stdout",
          "text": [
            "Collecting https://github.com/compphoto/Intrinsic/archive/main.zip\n",
            "  Downloading https://github.com/compphoto/Intrinsic/archive/main.zip\n",
            "\u001b[2K     \u001b[32m-\u001b[0m \u001b[32m38.2 MB\u001b[0m \u001b[31m28.7 MB/s\u001b[0m \u001b[33m0:00:01\u001b[0m\n",
            "\u001b[?25h  Preparing metadata (setup.py) ... \u001b[?25l\u001b[?25hdone\n",
            "Collecting altered_midas@ git+https://github.com/CCareaga/MiDaS@master (from intrinsic==0.0.1)\n",
            "  Cloning https://github.com/CCareaga/MiDaS (to revision master) to /tmp/pip-install-3c_eisxa/altered-midas_cef02ca7dd864a539852f5fa6983a8c2\n",
            "  Running command git clone --filter=blob:none --quiet https://github.com/CCareaga/MiDaS /tmp/pip-install-3c_eisxa/altered-midas_cef02ca7dd864a539852f5fa6983a8c2\n",
            "  Resolved https://github.com/CCareaga/MiDaS to commit ca29fc7041dd11a2347d93046e758bb3c7adaac6\n",
            "  Preparing metadata (setup.py) ... \u001b[?25l\u001b[?25hdone\n",
            "Collecting chrislib@ git+https://github.com/CCareaga/chrislib@main (from intrinsic==0.0.1)\n",
            "  Cloning https://github.com/CCareaga/chrislib (to revision main) to /tmp/pip-install-3c_eisxa/chrislib_9030b857731648529f0d46983fe67cda\n",
            "  Running command git clone --filter=blob:none --quiet https://github.com/CCareaga/chrislib /tmp/pip-install-3c_eisxa/chrislib_9030b857731648529f0d46983fe67cda\n",
            "  Resolved https://github.com/CCareaga/chrislib to commit cf818e04e16495e0228d0a418733280538a5857b\n",
            "  Preparing metadata (setup.py) ... \u001b[?25l\u001b[?25hdone\n",
            "Requirement already satisfied: numpy>=1.23.5 in /usr/local/lib/python3.10/dist-packages (from altered_midas@ git+https://github.com/CCareaga/MiDaS@master->intrinsic==0.0.1) (1.26.4)\n",
            "Requirement already satisfied: opencv-python>=4.8.0.76 in /usr/local/lib/python3.10/dist-packages (from altered_midas@ git+https://github.com/CCareaga/MiDaS@master->intrinsic==0.0.1) (4.10.0.84)\n",
            "Requirement already satisfied: torch>=2.0.1 in /usr/local/lib/python3.10/dist-packages (from altered_midas@ git+https://github.com/CCareaga/MiDaS@master->intrinsic==0.0.1) (2.5.0+cu121)\n",
            "Requirement already satisfied: torchvision>=0.15.2 in /usr/local/lib/python3.10/dist-packages (from altered_midas@ git+https://github.com/CCareaga/MiDaS@master->intrinsic==0.0.1) (0.20.0+cu121)\n",
            "Requirement already satisfied: timm>=0.6.12 in /usr/local/lib/python3.10/dist-packages (from altered_midas@ git+https://github.com/CCareaga/MiDaS@master->intrinsic==0.0.1) (1.0.11)\n",
            "Requirement already satisfied: beautifulsoup4>=4.11.2 in /usr/local/lib/python3.10/dist-packages (from chrislib@ git+https://github.com/CCareaga/chrislib@main->intrinsic==0.0.1) (4.12.3)\n",
            "Requirement already satisfied: imageio>=2.31.3 in /usr/local/lib/python3.10/dist-packages (from chrislib@ git+https://github.com/CCareaga/chrislib@main->intrinsic==0.0.1) (2.36.0)\n",
            "Collecting kornia>=0.7.0 (from chrislib@ git+https://github.com/CCareaga/chrislib@main->intrinsic==0.0.1)\n",
            "  Downloading kornia-0.7.4-py2.py3-none-any.whl.metadata (18 kB)\n",
            "Requirement already satisfied: matplotlib>=3.7.1 in /usr/local/lib/python3.10/dist-packages (from chrislib@ git+https://github.com/CCareaga/chrislib@main->intrinsic==0.0.1) (3.8.0)\n",
            "Requirement already satisfied: Pillow>=9.4.0 in /usr/local/lib/python3.10/dist-packages (from chrislib@ git+https://github.com/CCareaga/chrislib@main->intrinsic==0.0.1) (10.4.0)\n",
            "Requirement already satisfied: requests>=2.31.0 in /usr/local/lib/python3.10/dist-packages (from chrislib@ git+https://github.com/CCareaga/chrislib@main->intrinsic==0.0.1) (2.32.3)\n",
            "Requirement already satisfied: scikit-image>=0.19.3 in /usr/local/lib/python3.10/dist-packages (from chrislib@ git+https://github.com/CCareaga/chrislib@main->intrinsic==0.0.1) (0.24.0)\n",
            "Requirement already satisfied: scipy>=1.10.1 in /usr/local/lib/python3.10/dist-packages (from chrislib@ git+https://github.com/CCareaga/chrislib@main->intrinsic==0.0.1) (1.13.1)\n",
            "Requirement already satisfied: tqdm>=4.66.1 in /usr/local/lib/python3.10/dist-packages (from chrislib@ git+https://github.com/CCareaga/chrislib@main->intrinsic==0.0.1) (4.66.6)\n",
            "Requirement already satisfied: gdown>=4.7.1 in /usr/local/lib/python3.10/dist-packages (from chrislib@ git+https://github.com/CCareaga/chrislib@main->intrinsic==0.0.1) (5.2.0)\n",
            "Requirement already satisfied: soupsieve>1.2 in /usr/local/lib/python3.10/dist-packages (from beautifulsoup4>=4.11.2->chrislib@ git+https://github.com/CCareaga/chrislib@main->intrinsic==0.0.1) (2.6)\n",
            "Requirement already satisfied: filelock in /usr/local/lib/python3.10/dist-packages (from gdown>=4.7.1->chrislib@ git+https://github.com/CCareaga/chrislib@main->intrinsic==0.0.1) (3.16.1)\n",
            "Collecting kornia-rs>=0.1.0 (from kornia>=0.7.0->chrislib@ git+https://github.com/CCareaga/chrislib@main->intrinsic==0.0.1)\n",
            "  Downloading kornia_rs-0.1.7-cp310-cp310-manylinux_2_17_x86_64.manylinux2014_x86_64.whl.metadata (9.1 kB)\n",
            "Requirement already satisfied: packaging in /usr/local/lib/python3.10/dist-packages (from kornia>=0.7.0->chrislib@ git+https://github.com/CCareaga/chrislib@main->intrinsic==0.0.1) (24.1)\n",
            "Requirement already satisfied: contourpy>=1.0.1 in /usr/local/lib/python3.10/dist-packages (from matplotlib>=3.7.1->chrislib@ git+https://github.com/CCareaga/chrislib@main->intrinsic==0.0.1) (1.3.0)\n",
            "Requirement already satisfied: cycler>=0.10 in /usr/local/lib/python3.10/dist-packages (from matplotlib>=3.7.1->chrislib@ git+https://github.com/CCareaga/chrislib@main->intrinsic==0.0.1) (0.12.1)\n",
            "Requirement already satisfied: fonttools>=4.22.0 in /usr/local/lib/python3.10/dist-packages (from matplotlib>=3.7.1->chrislib@ git+https://github.com/CCareaga/chrislib@main->intrinsic==0.0.1) (4.54.1)\n",
            "Requirement already satisfied: kiwisolver>=1.0.1 in /usr/local/lib/python3.10/dist-packages (from matplotlib>=3.7.1->chrislib@ git+https://github.com/CCareaga/chrislib@main->intrinsic==0.0.1) (1.4.7)\n",
            "Requirement already satisfied: pyparsing>=2.3.1 in /usr/local/lib/python3.10/dist-packages (from matplotlib>=3.7.1->chrislib@ git+https://github.com/CCareaga/chrislib@main->intrinsic==0.0.1) (3.2.0)\n",
            "Requirement already satisfied: python-dateutil>=2.7 in /usr/local/lib/python3.10/dist-packages (from matplotlib>=3.7.1->chrislib@ git+https://github.com/CCareaga/chrislib@main->intrinsic==0.0.1) (2.8.2)\n",
            "Requirement already satisfied: charset-normalizer<4,>=2 in /usr/local/lib/python3.10/dist-packages (from requests>=2.31.0->chrislib@ git+https://github.com/CCareaga/chrislib@main->intrinsic==0.0.1) (3.4.0)\n",
            "Requirement already satisfied: idna<4,>=2.5 in /usr/local/lib/python3.10/dist-packages (from requests>=2.31.0->chrislib@ git+https://github.com/CCareaga/chrislib@main->intrinsic==0.0.1) (3.10)\n",
            "Requirement already satisfied: urllib3<3,>=1.21.1 in /usr/local/lib/python3.10/dist-packages (from requests>=2.31.0->chrislib@ git+https://github.com/CCareaga/chrislib@main->intrinsic==0.0.1) (2.2.3)\n",
            "Requirement already satisfied: certifi>=2017.4.17 in /usr/local/lib/python3.10/dist-packages (from requests>=2.31.0->chrislib@ git+https://github.com/CCareaga/chrislib@main->intrinsic==0.0.1) (2024.8.30)\n",
            "Requirement already satisfied: networkx>=2.8 in /usr/local/lib/python3.10/dist-packages (from scikit-image>=0.19.3->chrislib@ git+https://github.com/CCareaga/chrislib@main->intrinsic==0.0.1) (3.4.2)\n",
            "Requirement already satisfied: tifffile>=2022.8.12 in /usr/local/lib/python3.10/dist-packages (from scikit-image>=0.19.3->chrislib@ git+https://github.com/CCareaga/chrislib@main->intrinsic==0.0.1) (2024.9.20)\n",
            "Requirement already satisfied: lazy-loader>=0.4 in /usr/local/lib/python3.10/dist-packages (from scikit-image>=0.19.3->chrislib@ git+https://github.com/CCareaga/chrislib@main->intrinsic==0.0.1) (0.4)\n",
            "Requirement already satisfied: pyyaml in /usr/local/lib/python3.10/dist-packages (from timm>=0.6.12->altered_midas@ git+https://github.com/CCareaga/MiDaS@master->intrinsic==0.0.1) (6.0.2)\n",
            "Requirement already satisfied: huggingface_hub in /usr/local/lib/python3.10/dist-packages (from timm>=0.6.12->altered_midas@ git+https://github.com/CCareaga/MiDaS@master->intrinsic==0.0.1) (0.24.7)\n",
            "Requirement already satisfied: safetensors in /usr/local/lib/python3.10/dist-packages (from timm>=0.6.12->altered_midas@ git+https://github.com/CCareaga/MiDaS@master->intrinsic==0.0.1) (0.4.5)\n",
            "Requirement already satisfied: typing-extensions>=4.8.0 in /usr/local/lib/python3.10/dist-packages (from torch>=2.0.1->altered_midas@ git+https://github.com/CCareaga/MiDaS@master->intrinsic==0.0.1) (4.12.2)\n",
            "Requirement already satisfied: jinja2 in /usr/local/lib/python3.10/dist-packages (from torch>=2.0.1->altered_midas@ git+https://github.com/CCareaga/MiDaS@master->intrinsic==0.0.1) (3.1.4)\n",
            "Requirement already satisfied: fsspec in /usr/local/lib/python3.10/dist-packages (from torch>=2.0.1->altered_midas@ git+https://github.com/CCareaga/MiDaS@master->intrinsic==0.0.1) (2024.10.0)\n",
            "Requirement already satisfied: sympy==1.13.1 in /usr/local/lib/python3.10/dist-packages (from torch>=2.0.1->altered_midas@ git+https://github.com/CCareaga/MiDaS@master->intrinsic==0.0.1) (1.13.1)\n",
            "Requirement already satisfied: mpmath<1.4,>=1.1.0 in /usr/local/lib/python3.10/dist-packages (from sympy==1.13.1->torch>=2.0.1->altered_midas@ git+https://github.com/CCareaga/MiDaS@master->intrinsic==0.0.1) (1.3.0)\n",
            "Requirement already satisfied: six>=1.5 in /usr/local/lib/python3.10/dist-packages (from python-dateutil>=2.7->matplotlib>=3.7.1->chrislib@ git+https://github.com/CCareaga/chrislib@main->intrinsic==0.0.1) (1.16.0)\n",
            "Requirement already satisfied: MarkupSafe>=2.0 in /usr/local/lib/python3.10/dist-packages (from jinja2->torch>=2.0.1->altered_midas@ git+https://github.com/CCareaga/MiDaS@master->intrinsic==0.0.1) (3.0.2)\n",
            "Requirement already satisfied: PySocks!=1.5.7,>=1.5.6 in /usr/local/lib/python3.10/dist-packages (from requests[socks]->gdown>=4.7.1->chrislib@ git+https://github.com/CCareaga/chrislib@main->intrinsic==0.0.1) (1.7.1)\n",
            "Downloading kornia-0.7.4-py2.py3-none-any.whl (899 kB)\n",
            "\u001b[2K   \u001b[90m━━━━━━━━━━━━━━━━━━━━━━━━━━━━━━━━━━━━━━━━\u001b[0m \u001b[32m899.4/899.4 kB\u001b[0m \u001b[31m20.8 MB/s\u001b[0m eta \u001b[36m0:00:00\u001b[0m\n",
            "\u001b[?25hDownloading kornia_rs-0.1.7-cp310-cp310-manylinux_2_17_x86_64.manylinux2014_x86_64.whl (1.6 MB)\n",
            "\u001b[2K   \u001b[90m━━━━━━━━━━━━━━━━━━━━━━━━━━━━━━━━━━━━━━━━\u001b[0m \u001b[32m1.6/1.6 MB\u001b[0m \u001b[31m73.6 MB/s\u001b[0m eta \u001b[36m0:00:00\u001b[0m\n",
            "\u001b[?25hBuilding wheels for collected packages: intrinsic, altered_midas, chrislib\n",
            "  Building wheel for intrinsic (setup.py) ... \u001b[?25l\u001b[?25hdone\n",
            "  Created wheel for intrinsic: filename=intrinsic-0.0.1-py3-none-any.whl size=7821 sha256=3ccd90c89cc7e8dac960ea0b0b44eb566978c39e5b5c5cbb73abdb1bff9f3f0e\n",
            "  Stored in directory: /tmp/pip-ephem-wheel-cache-5lsgifkk/wheels/e5/a9/76/5cf36af6d1310798d7873e5d21a8999d84f182f31fae7336fc\n",
            "  Building wheel for altered_midas (setup.py) ... \u001b[?25l\u001b[?25hdone\n",
            "  Created wheel for altered_midas: filename=altered_midas-0.0.1-py3-none-any.whl size=23107 sha256=8e21c3d5f9ab6f40631b4695f64b58f5590149c415a802ee2d5355b4db1a9631\n",
            "  Stored in directory: /tmp/pip-ephem-wheel-cache-5lsgifkk/wheels/c7/2d/45/535a34d1096543ebeda5b2c35e60775a91d24fcefb15107c8a\n",
            "  Building wheel for chrislib (setup.py) ... \u001b[?25l\u001b[?25hdone\n",
            "  Created wheel for chrislib: filename=chrislib-0.0.1-py3-none-any.whl size=45943 sha256=e537717957f7f219a03c2f052ade4bd7e15d70ed254912d151f6fc897081625a\n",
            "  Stored in directory: /tmp/pip-ephem-wheel-cache-5lsgifkk/wheels/0e/ab/38/7865d2c55f0571db4d183eb8295c061ce948619d972123b612\n",
            "Successfully built intrinsic altered_midas chrislib\n",
            "Installing collected packages: kornia-rs, kornia, chrislib, altered_midas, intrinsic\n",
            "Successfully installed altered_midas-0.0.1 chrislib-0.0.1 intrinsic-0.0.1 kornia-0.7.4 kornia-rs-0.1.7\n"
          ]
        }
      ],
      "source": [
        "# install the intrinsic decomposition repo from github\n",
        "!pip install https://github.com/compphoto/Intrinsic/archive/main.zip"
      ]
    },
    {
      "cell_type": "code",
      "source": [
        "import torch\n",
        "\n",
        "# import some helper functions from chrislib (will be installed by the intrinsic repo)\n",
        "from chrislib.general import show, view, invert\n",
        "from chrislib.data_util import load_from_url\n",
        "\n",
        "# import model loading and running the pipeline\n",
        "from intrinsic.pipeline import load_models, run_pipeline\n",
        "from chrislib.general import show, view, uninvert\n",
        "from chrislib.data_util import load_image\n",
        "\n",
        "# import model loading and running the pipeline\n",
        "from intrinsic.pipeline import run_pipeline\n",
        "\n",
        "import cv2\n",
        "import math\n",
        "import numpy as np\n",
        "\n",
        "import matplotlib.pyplot as plt\n",
        "from PIL import Image, ImageDraw, ImageFont\n",
        "from skimage.transform import resize\n",
        "import os\n",
        "from chrislib.data_util import np_to_pil"
      ],
      "metadata": {
        "id": "J0gn82ZSjomn"
      },
      "execution_count": 3,
      "outputs": []
    },
    {
      "cell_type": "code",
      "source": [
        "# download the pretrained weights and return the model (may take a bit to download weights the first time)\n",
        "intrinsic_model = load_models('v2')"
      ],
      "metadata": {
        "id": "Ap3HubpwC_KG",
        "outputId": "2cd4cd36-ea47-44e9-8bbf-a804a42612ac",
        "colab": {
          "base_uri": "https://localhost:8080/"
        }
      },
      "execution_count": 4,
      "outputs": [
        {
          "output_type": "stream",
          "name": "stderr",
          "text": [
            "Downloading: \"https://github.com/compphoto/Intrinsic/releases/download/v2.0/stage_0.pt\" to /root/.cache/torch/hub/checkpoints/stage_0.pt\n",
            "100%|██████████| 403M/403M [00:01<00:00, 256MB/s]\n",
            "Downloading: \"https://github.com/compphoto/Intrinsic/releases/download/v2.0/stage_1.pt\" to /root/.cache/torch/hub/checkpoints/stage_1.pt\n",
            "100%|██████████| 81.8M/81.8M [00:00<00:00, 273MB/s]\n",
            "Downloading: \"https://github.com/compphoto/Intrinsic/releases/download/v2.0/stage_2.pt\" to /root/.cache/torch/hub/checkpoints/stage_2.pt\n",
            "100%|██████████| 403M/403M [00:09<00:00, 45.0MB/s]\n",
            "Downloading: \"https://github.com/compphoto/Intrinsic/releases/download/v2.0/stage_3.pt\" to /root/.cache/torch/hub/checkpoints/stage_3.pt\n",
            "100%|██████████| 403M/403M [00:06<00:00, 66.6MB/s]\n",
            "Downloading: \"https://github.com/compphoto/Intrinsic/releases/download/v2.0/stage_4.pt\" to /root/.cache/torch/hub/checkpoints/stage_4.pt\n",
            "100%|██████████| 403M/403M [00:01<00:00, 261MB/s]\n",
            "Downloading: \"https://github.com/facebookresearch/WSL-Images/zipball/main\" to /root/.cache/torch/hub/main.zip\n",
            "Downloading: \"https://download.pytorch.org/models/ig_resnext101_32x8-c38310e5.pth\" to /root/.cache/torch/hub/checkpoints/ig_resnext101_32x8-c38310e5.pth\n",
            "100%|██████████| 340M/340M [00:01<00:00, 263MB/s]\n",
            "/usr/local/lib/python3.10/dist-packages/torch/hub.py:330: UserWarning: You are about to download and run code from an untrusted repository. In a future release, this won't be allowed. To add the repository to your trusted list, change the command to {calling_fn}(..., trust_repo=False) and a command prompt will appear asking for an explicit confirmation of trust, or load(..., trust_repo=True), which will assume that the prompt is to be answered with 'yes'. You can also use load(..., trust_repo='check') which will only prompt for confirmation if the repo is not already trusted. This will eventually be the default behaviour\n",
            "  warnings.warn(\n",
            "Downloading: \"https://github.com/rwightman/gen-efficientnet-pytorch/zipball/master\" to /root/.cache/torch/hub/master.zip\n",
            "Using cache found in /root/.cache/torch/hub/facebookresearch_WSL-Images_main\n",
            "Using cache found in /root/.cache/torch/hub/facebookresearch_WSL-Images_main\n",
            "Using cache found in /root/.cache/torch/hub/facebookresearch_WSL-Images_main\n"
          ]
        }
      ]
    },
    {
      "cell_type": "code",
      "source": [
        "# load the image to run through the pipeline\n",
        "img = load_from_url('https://raw.githubusercontent.com/compphoto/Intrinsic/refs/heads/main/figures/canal.png')\n",
        "input_folder = '/content/imgs/'  # 替换为你的输入文件夹路径\n",
        "output_folder = '/content/out_imgs/'  # 替换为你的输出文件夹路径\n",
        "for filename in os.listdir(input_folder):\n",
        "    # 构建完整的文件路径\n",
        "    file_path = os.path.join(input_folder, filename)\n",
        "\n",
        "    # 检查文件是否是图像文件（如 .jpg、.png 等）\n",
        "    if filename.lower().endswith(('.png', '.jpg', '.jpeg', '.bmp', '.tiff')):\n",
        "        # 加载图像\n",
        "        img = load_image(file_path)\n",
        "        if img.shape[0]<=img.shape[1]:\n",
        "\n",
        "            img = resize(img, (384, 512))\n",
        "        else:\n",
        "            img = resize(img, (512, 384))\n",
        "        result = run_pipeline(\n",
        "            intrinsic_model,\n",
        "            img,\n",
        "            device='cuda'\n",
        "        )\n",
        "\n",
        "        # 处理图像\n",
        "        shd = 1 - invert(result['dif_shd'])\n",
        "        alb = view(result['hr_alb'])\n",
        "\n",
        "        # 自定义命名方案，例如：new_filename_1.png, new_filename_2.png, ...\n",
        "        new_s = f'S_{filename}'\n",
        "        output_paths = os.path.join(output_folder, new_s)\n",
        "        new_r = f'R_{filename}'\n",
        "        output_pathr = os.path.join(output_folder, new_r)\n",
        "\n",
        "        shading=(view(shd)*255).astype(np.uint8)\n",
        "        shading=cv2.cvtColor(shading, cv2.COLOR_RGB2BGR)\n",
        "        cv2.imwrite(output_paths, shading)\n",
        "\n",
        "        alb=(view(alb)*255).astype(np.uint8)\n",
        "        alb=cv2.cvtColor(alb, cv2.COLOR_RGB2BGR)\n",
        "        cv2.imwrite(output_pathr, alb)\n",
        "\n",
        "\n",
        "\n",
        "        # 保存图像（使用 cv2 保存）\n",
        "        # 如果要保存灰度图像，请确保数据格式为单通道\n",
        "        print(f'Saved: {output_pathr}')\n",
        "\n",
        "print('All images processed and saved successfully.')"
      ],
      "metadata": {
        "id": "ALb4Pjfvj-MU",
        "outputId": "3b111eee-84fa-4b86-b6ab-6df45d91317c",
        "colab": {
          "base_uri": "https://localhost:8080/"
        }
      },
      "execution_count": 8,
      "outputs": [
        {
          "output_type": "stream",
          "name": "stdout",
          "text": [
            "Saved: /content/out_imgs/R_eopch039_75145..png\n",
            "Saved: /content/out_imgs/R_eopch039_102957..png\n",
            "All images processed and saved successfully.\n"
          ]
        }
      ]
    },
    {
      "cell_type": "code",
      "source": [
        "# run the image through the pipeline (runs all stages)\n",
        "result = run_pipeline(\n",
        "    intrinsic_model,\n",
        "    img,\n",
        "    device='cuda'\n",
        ")"
      ],
      "metadata": {
        "id": "QW0TiFypkOj-"
      },
      "execution_count": null,
      "outputs": []
    },
    {
      "cell_type": "code",
      "source": [
        "img = result['image']\n",
        "alb = view(result['hr_alb']) # gamma correct the estimated albedo\n",
        "dif = 1 - invert(result['dif_shd']) # tonemap the diffuse shading\n",
        "res = result['residual']"
      ],
      "metadata": {
        "id": "XpYY2MNjkp2f"
      },
      "execution_count": null,
      "outputs": []
    },
    {
      "cell_type": "code",
      "source": [
        "show([img, alb, dif, res], size=(30, 7))"
      ],
      "metadata": {
        "id": "8KKbyoVLki9s"
      },
      "execution_count": null,
      "outputs": []
    },
    {
      "cell_type": "code",
      "source": [],
      "metadata": {
        "id": "8BdHKJun3cyA"
      },
      "execution_count": null,
      "outputs": []
    }
  ]
}